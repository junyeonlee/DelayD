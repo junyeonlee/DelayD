{
  "nbformat": 4,
  "nbformat_minor": 0,
  "metadata": {
    "colab": {
      "provenance": [],
      "collapsed_sections": [],
      "include_colab_link": true
    },
    "kernelspec": {
      "name": "python3",
      "display_name": "Python 3"
    },
    "language_info": {
      "name": "python"
    }
  },
  "cells": [
    {
      "cell_type": "markdown",
      "metadata": {
        "id": "view-in-github",
        "colab_type": "text"
      },
      "source": [
        "<a href=\"https://colab.research.google.com/github/junyeonlee/DelayD/blob/master/Master_Trello_API.ipynb\" target=\"_parent\"><img src=\"https://colab.research.google.com/assets/colab-badge.svg\" alt=\"Open In Colab\"/></a>"
      ]
    },
    {
      "cell_type": "code",
      "source": [
        "#develop note \n",
        "#v1 08/29 added careate cards\n",
        "#v1.1 9/1 added search & duplicate check\n",
        "#v1.2 9/7 added (duplicates check) on job title"
      ],
      "metadata": {
        "id": "4MpqqAY0J_1p"
      },
      "execution_count": null,
      "outputs": []
    },
    {
      "cell_type": "markdown",
      "source": [
        "# import key, install"
      ],
      "metadata": {
        "id": "5Q4igzwlKeDr"
      }
    },
    {
      "cell_type": "code",
      "source": [
        "import requests\n",
        "import json\n",
        "import pandas as pd\n",
        "from datetime import datetime "
      ],
      "metadata": {
        "id": "sWSCbs2TmD3m"
      },
      "execution_count": null,
      "outputs": []
    },
    {
      "cell_type": "code",
      "source": [
        "# yourkey = '284e85e5cf9952f87c6aa31d3b5cad71'\n",
        "# yourtoken = 'ef54f08dd4557fe58351f947bfc0d147ea7b5d4a3a0a5165aad122bdea770b16'\n",
        "# oauth = \"\"\n",
        "# token_secret = '1af469eba69dfc4f6b6aa2fe1ad8c6e6dc34ed5f032ef80f35619855468605a8'"
      ],
      "metadata": {
        "id": "g9BQ5CJWKzHC"
      },
      "execution_count": null,
      "outputs": []
    },
    {
      "cell_type": "code",
      "source": [
        "yourkey = 'c2f68003f4b0b939e54344493e958641'\n",
        "yourtoken = '354851816aa6efc7307738f8db1de1b89ad09adbdcfd3f3732e98b12c567ff32'\n",
        "oauth = \"\"\n",
        "token_secret = 'e0697a49dbd8caba5b00586a5ae25729da6eaeef0f6d2142dc73fba389e3e1e9'"
      ],
      "metadata": {
        "id": "ABYtF-M3QNTx"
      },
      "execution_count": null,
      "outputs": []
    },
    {
      "cell_type": "code",
      "source": [
        "pip install py-trello==0.18.0"
      ],
      "metadata": {
        "colab": {
          "base_uri": "https://localhost:8080/"
        },
        "id": "YKUcbiIlK18-",
        "outputId": "aab09057-4f71-41c0-878c-465c43da4e4d"
      },
      "execution_count": null,
      "outputs": [
        {
          "output_type": "stream",
          "name": "stdout",
          "text": [
            "Looking in indexes: https://pypi.org/simple, https://us-python.pkg.dev/colab-wheels/public/simple/\n",
            "Collecting py-trello==0.18.0\n",
            "  Downloading py-trello-0.18.0.tar.gz (30 kB)\n",
            "Requirement already satisfied: requests in /usr/local/lib/python3.7/dist-packages (from py-trello==0.18.0) (2.23.0)\n",
            "Requirement already satisfied: requests-oauthlib>=0.4.1 in /usr/local/lib/python3.7/dist-packages (from py-trello==0.18.0) (1.3.1)\n",
            "Requirement already satisfied: python-dateutil in /usr/local/lib/python3.7/dist-packages (from py-trello==0.18.0) (2.8.2)\n",
            "Requirement already satisfied: pytz in /usr/local/lib/python3.7/dist-packages (from py-trello==0.18.0) (2022.4)\n",
            "Requirement already satisfied: oauthlib>=3.0.0 in /usr/local/lib/python3.7/dist-packages (from requests-oauthlib>=0.4.1->py-trello==0.18.0) (3.2.1)\n",
            "Requirement already satisfied: idna<3,>=2.5 in /usr/local/lib/python3.7/dist-packages (from requests->py-trello==0.18.0) (2.10)\n",
            "Requirement already satisfied: urllib3!=1.25.0,!=1.25.1,<1.26,>=1.21.1 in /usr/local/lib/python3.7/dist-packages (from requests->py-trello==0.18.0) (1.24.3)\n",
            "Requirement already satisfied: chardet<4,>=3.0.2 in /usr/local/lib/python3.7/dist-packages (from requests->py-trello==0.18.0) (3.0.4)\n",
            "Requirement already satisfied: certifi>=2017.4.17 in /usr/local/lib/python3.7/dist-packages (from requests->py-trello==0.18.0) (2022.9.24)\n",
            "Requirement already satisfied: six>=1.5 in /usr/local/lib/python3.7/dist-packages (from python-dateutil->py-trello==0.18.0) (1.15.0)\n",
            "Building wheels for collected packages: py-trello\n",
            "  Building wheel for py-trello (setup.py) ... \u001b[?25l\u001b[?25hdone\n",
            "  Created wheel for py-trello: filename=py_trello-0.18.0-py3-none-any.whl size=39837 sha256=a46ea4f6715e35458fe6211dd868eda9f4e9a7f96149b298d5af3a949aac241c\n",
            "  Stored in directory: /root/.cache/pip/wheels/58/09/29/92ddf6982483c17ee3f1f074bc179f6ce711c5f18389a89d8a\n",
            "Successfully built py-trello\n",
            "Installing collected packages: py-trello\n",
            "Successfully installed py-trello-0.18.0\n"
          ]
        }
      ]
    },
    {
      "cell_type": "code",
      "source": [
        "from trello import TrelloClient\n",
        "\n",
        "client = TrelloClient(\n",
        "    api_key = yourkey,\n",
        "    api_secret='your-secret',\n",
        "    token = yourtoken,\n",
        "    token_secret = token_secret\n",
        ")"
      ],
      "metadata": {
        "id": "cxCev7btK2KA"
      },
      "execution_count": null,
      "outputs": []
    },
    {
      "cell_type": "code",
      "source": [
        "from google.colab import auth\n",
        "auth.authenticate_user()\n",
        "\n",
        "import gspread\n",
        "from google.auth import default\n",
        "creds, _ = default()\n",
        "\n",
        "from google.colab import drive\n",
        "drive.mount('/content/drive')\n",
        "\n",
        "gc = gspread.authorize(creds)"
      ],
      "metadata": {
        "id": "NSrMSJg4K45r",
        "colab": {
          "base_uri": "https://localhost:8080/"
        },
        "outputId": "4d16a37c-618c-4622-9edb-4566a0abd5e0"
      },
      "execution_count": null,
      "outputs": [
        {
          "output_type": "stream",
          "name": "stdout",
          "text": [
            "Mounted at /content/drive\n"
          ]
        }
      ]
    },
    {
      "cell_type": "markdown",
      "source": [
        "#Put Listid, "
      ],
      "metadata": {
        "id": "EdhrxUoHK7lN"
      }
    },
    {
      "cell_type": "code",
      "source": [
        "#Choose Board\n",
        "all_boards = client.list_boards()\n",
        "last_board = all_boards[-2]\n",
        "print(last_board.name)"
      ],
      "metadata": {
        "colab": {
          "base_uri": "https://localhost:8080/"
        },
        "id": "bfB94e_PuayR",
        "outputId": "b951457e-96fc-4239-b6d4-09b99e025915"
      },
      "execution_count": null,
      "outputs": [
        {
          "output_type": "stream",
          "name": "stdout",
          "text": [
            "COB Hiring Process Flow\n"
          ]
        }
      ]
    },
    {
      "cell_type": "code",
      "source": [
        "# last_board.all_lists()\n",
        "#archieved and posted cards\n",
        "len(last_board.all_cards())\n",
        "#posted card\n",
        "len(last_board.get_cards())"
      ],
      "metadata": {
        "colab": {
          "base_uri": "https://localhost:8080/"
        },
        "id": "ohHVAay_uTds",
        "outputId": "adf6134e-0af5-4aa9-e04f-94c5f4a6e611"
      },
      "execution_count": null,
      "outputs": [
        {
          "output_type": "execute_result",
          "data": {
            "text/plain": [
              "108"
            ]
          },
          "metadata": {},
          "execution_count": 7
        }
      ]
    },
    {
      "cell_type": "code",
      "source": [
        "dic_list= {'6130fcfbf6281e68ab54480c': '1. Positions Backlog',\n",
        "          '6131009ee67626574c0b87c6': '2. Job Description in review with Kate',\n",
        "          '613100e26956e658d30b9ea7': '3. Create Job Posting and route to HM.',\n",
        "          '6130fcfbf6281e68ab54480d': '4. Job is posted-Collecting Applications',\n",
        "          '6241ca8ddffc170ff17e9881': '5. Position Closed: Waiting on Interview Questions',\n",
        "          '6130fcfbf6281e68ab54480e': '6. Job is closed; In-review with HM',\n",
        "          '6130fcfbf6281e68ab54480f': \"7. HM has selected a candidate, but we're still waiting on Hiring Materials\",\n",
        "          '6130fcfbf6281e68ab544810': '8. In-review with Kate', \n",
        "          '6130ff6a339cf031507efd4e': '9. In-review with Emily',\n",
        "          '6130ff806ebee63b2100cff5': '10. Send Approval to Hire Email to HM',\n",
        "          '6130fcfbf6281e68ab544811': '11. After HM has responded with DOH, schedule orientation and send welcome email',\n",
        "          '6132329a36b7286d017120dc': '12. Employee Completed Orientation', \n",
        "          '613a8ad11ae41c889a8ef87a': '13. Employee Completed - Internal Applicant',\n",
        "          '614b72561e005a3d9d86980f': '14. Employee Completed - Temp/Seasonal',\n",
        "          '6138f778af2bb6171e6b71d3': '15. Applicant Declined the Position',\n",
        "          '6143e77429e1bd5cf1a17859': '16. Position will be reposted-was Reposted',\n",
        "          '6241d1e94a31511d061d9df5': '17. No one hired - Position closed'}"
      ],
      "metadata": {
        "id": "VI57oEbbLWST"
      },
      "execution_count": null,
      "outputs": []
    },
    {
      "cell_type": "code",
      "source": [
        "my_list1 = last_board.get_list('6130fcfbf6281e68ab54480c')\n",
        "my_list2 = last_board.get_list('6131009ee67626574c0b87c6')\n",
        "my_list3 = last_board.get_list('613100e26956e658d30b9ea7')\n",
        "my_list4 = last_board.get_list('6130fcfbf6281e68ab54480d')\n",
        "my_list5 = last_board.get_list('6241ca8ddffc170ff17e9881')\n",
        "my_list6 = last_board.get_list('6130fcfbf6281e68ab54480e')\n",
        "my_list7 = last_board.get_list('6130fcfbf6281e68ab54480f')\n",
        "my_list8 = last_board.get_list('6130fcfbf6281e68ab544810')\n",
        "my_list9 = last_board.get_list('6130ff6a339cf031507efd4e')\n",
        "\n",
        "my_list12 = last_board.get_list('6132329a36b7286d017120dc')\n",
        "my_list13 = last_board.get_list('613a8ad11ae41c889a8ef87a')\n",
        "my_list14 = last_board.get_list('614b72561e005a3d9d86980f')\n",
        "\n",
        "\n",
        "my_list15 = last_board.get_list('6138f778af2bb6171e6b71d3')\n",
        "my_list16 = last_board.get_list('6143e77429e1bd5cf1a17859')\n",
        "my_list17 = last_board.get_list('6241d1e94a31511d061d9df5')\n",
        "\n",
        "#my_list = [my_list1, my_list2,my_list3, my_list4,my_list5,my_list6,my_list7,my_list8,my_list9 ]\n",
        "#len(my_list1)\n",
        "# for card in list_id:\n",
        "#   print(len(card)"
      ],
      "metadata": {
        "id": "uU7tyU3BLXmD"
      },
      "execution_count": null,
      "outputs": []
    },
    {
      "cell_type": "code",
      "source": [
        "my_list9.cardsCnt()"
      ],
      "metadata": {
        "colab": {
          "base_uri": "https://localhost:8080/"
        },
        "id": "96btmVgWLd1R",
        "outputId": "821c46cc-7871-4a99-ef2e-e154da0bc80a"
      },
      "execution_count": null,
      "outputs": [
        {
          "output_type": "execute_result",
          "data": {
            "text/plain": [
              "1"
            ]
          },
          "metadata": {},
          "execution_count": 10
        }
      ]
    },
    {
      "cell_type": "markdown",
      "source": [
        "# Edit number\n",
        "- number_vacant_position\n",
        "- req_post_HR\n",
        "- acpt_apps\n",
        "- review_MH\n",
        "- review_HR\n",
        "\n"
      ],
      "metadata": {
        "id": "6Hg746VFLy2-"
      }
    },
    {
      "cell_type": "code",
      "source": [
        "from datetime import date\n",
        "\n",
        "today = date.today()\n",
        "date = today.strftime(\"%Y-%m-%d\")\n",
        "date"
      ],
      "metadata": {
        "colab": {
          "base_uri": "https://localhost:8080/",
          "height": 35
        },
        "id": "hpdwPy9eM86a",
        "outputId": "a74fed54-ded0-471e-d984-dcb44dec95d6"
      },
      "execution_count": null,
      "outputs": [
        {
          "output_type": "execute_result",
          "data": {
            "text/plain": [
              "'2022-10-21'"
            ],
            "application/vnd.google.colaboratory.intrinsic+json": {
              "type": "string"
            }
          },
          "metadata": {},
          "execution_count": 11
        }
      ]
    },
    {
      "cell_type": "code",
      "source": [
        "number_vacant_position = len(last_board.get_cards()) - my_list12.cardsCnt() - my_list13.cardsCnt()- my_list14.cardsCnt()- my_list15.cardsCnt() - my_list16.cardsCnt() - my_list17.cardsCnt() -11\n",
        "req_post_HR = my_list1.cardsCnt() + my_list2.cardsCnt() + my_list3.cardsCnt() -3\n",
        "acpt_apps = my_list4.cardsCnt() -1\n",
        "review_HM = my_list6.cardsCnt() -1\n",
        "review_HR = my_list8.cardsCnt() + my_list9.cardsCnt() -2"
      ],
      "metadata": {
        "id": "ibn2nVYxLiaY"
      },
      "execution_count": null,
      "outputs": []
    },
    {
      "cell_type": "code",
      "source": [
        "cell_values = [date, number_vacant_position,req_post_HR,acpt_apps,review_HM,review_HR]"
      ],
      "metadata": {
        "id": "BAt0KjrtM1dd"
      },
      "execution_count": null,
      "outputs": []
    },
    {
      "cell_type": "code",
      "source": [],
      "metadata": {
        "id": "2T_C4256M-FY"
      },
      "execution_count": null,
      "outputs": []
    },
    {
      "cell_type": "markdown",
      "source": [
        "#Updata Current stat"
      ],
      "metadata": {
        "id": "-vVAvtY_M_8G"
      }
    },
    {
      "cell_type": "code",
      "source": [
        "import pandas as pd"
      ],
      "metadata": {
        "id": "AaJ9ZiYzNbOb"
      },
      "execution_count": null,
      "outputs": []
    },
    {
      "cell_type": "code",
      "source": [
        "#mount GD, GS\n",
        "#open gs - csv - df\n",
        "\n",
        "worksheet = gc.open('current_stat').sheet1"
      ],
      "metadata": {
        "id": "Rp5gjNDtNBkh"
      },
      "execution_count": null,
      "outputs": []
    },
    {
      "cell_type": "code",
      "source": [
        "df = pd.DataFrame(worksheet.get_all_records())"
      ],
      "metadata": {
        "id": "y3kj5pC2NZhD"
      },
      "execution_count": null,
      "outputs": []
    },
    {
      "cell_type": "code",
      "source": [
        "df"
      ],
      "metadata": {
        "colab": {
          "base_uri": "https://localhost:8080/"
        },
        "id": "S6VfO119NjTA",
        "outputId": "00414346-3146-4ae3-c604-c079abc5856d"
      },
      "execution_count": null,
      "outputs": [
        {
          "output_type": "execute_result",
          "data": {
            "text/plain": [
              "          Date  Number of Vanant  Request to post In review with HR  \\\n",
              "0   2022-08-29                37                                  1   \n",
              "1   2022-08-30                37                                  1   \n",
              "2   2022-08-31                37                                  1   \n",
              "3   2022-09-01                44                                  8   \n",
              "4   2022-09-02                44                                  8   \n",
              "5   2022-09-06                44                                  8   \n",
              "6   2022-09-08                44                                  5   \n",
              "7   2022-09-09                44                                  6   \n",
              "8   2022-09-12                40                                  4   \n",
              "9   2022-09-13                40                                  4   \n",
              "10  2022-09-14                40                                  6   \n",
              "11  2022-09-15                39                                  7   \n",
              "12  2022-09-16                40                                  6   \n",
              "13  2022-09-19                43                                  8   \n",
              "14  2022-09-20                43                                  8   \n",
              "15  2022-09-21                43                                  6   \n",
              "16  2022-09-22                43                                  6   \n",
              "17  2022-09-23                43                                  6   \n",
              "18  2022-09-27                40                                  7   \n",
              "19  2022-09-28                42                                  9   \n",
              "20  2022-10-03                43                                 11   \n",
              "21  2022-10-04                44                                  5   \n",
              "22  2022-10-05                45                                  6   \n",
              "23  2022-10-13                37                                  3   \n",
              "24  2022-10-16                39                                  7   \n",
              "25  2022-10-17                39                                  7   \n",
              "26  2022-10-18                39                                  7   \n",
              "27  2022-10-19                40                                  5   \n",
              "\n",
              "    Accepting applicants  Reviewing applicants with HM  \\\n",
              "0                      8                            15   \n",
              "1                      7                            13   \n",
              "2                      6                            14   \n",
              "3                      6                            11   \n",
              "4                      6                            10   \n",
              "5                      4                            10   \n",
              "6                      8                             9   \n",
              "7                      7                             9   \n",
              "8                      9                             9   \n",
              "9                      9                             8   \n",
              "10                     9                             7   \n",
              "11                     9                             6   \n",
              "12                     9                             6   \n",
              "13                     8                             7   \n",
              "14                     8                             7   \n",
              "15                    10                             7   \n",
              "16                    10                             4   \n",
              "17                     9                             5   \n",
              "18                     9                             5   \n",
              "19                     7                             6   \n",
              "20                     6                             6   \n",
              "21                    12                             6   \n",
              "22                    11                             8   \n",
              "23                    14                             7   \n",
              "24                    12                             8   \n",
              "25                    12                             8   \n",
              "26                     9                            10   \n",
              "27                    11                            13   \n",
              "\n",
              "    Reviewing request to hire with HR  \n",
              "0                                   2  \n",
              "1                                   2  \n",
              "2                                   1  \n",
              "3                                   4  \n",
              "4                                   4  \n",
              "5                                   5  \n",
              "6                                   6  \n",
              "7                                   2  \n",
              "8                                   2  \n",
              "9                                   1  \n",
              "10                                  2  \n",
              "11                                  2  \n",
              "12                                  4  \n",
              "13                                  3  \n",
              "14                                  3  \n",
              "15                                  2  \n",
              "16                                  3  \n",
              "17                                  3  \n",
              "18                                  0  \n",
              "19                                  0  \n",
              "20                                  1  \n",
              "21                                  1  \n",
              "22                                  1  \n",
              "23                                  1  \n",
              "24                                  1  \n",
              "25                                  1  \n",
              "26                                  1  \n",
              "27                                  0  "
            ],
            "text/html": [
              "\n",
              "  <div id=\"df-7ecac6ab-b453-4a83-8f94-3dc07fec2c3c\">\n",
              "    <div class=\"colab-df-container\">\n",
              "      <div>\n",
              "<style scoped>\n",
              "    .dataframe tbody tr th:only-of-type {\n",
              "        vertical-align: middle;\n",
              "    }\n",
              "\n",
              "    .dataframe tbody tr th {\n",
              "        vertical-align: top;\n",
              "    }\n",
              "\n",
              "    .dataframe thead th {\n",
              "        text-align: right;\n",
              "    }\n",
              "</style>\n",
              "<table border=\"1\" class=\"dataframe\">\n",
              "  <thead>\n",
              "    <tr style=\"text-align: right;\">\n",
              "      <th></th>\n",
              "      <th>Date</th>\n",
              "      <th>Number of Vanant</th>\n",
              "      <th>Request to post In review with HR</th>\n",
              "      <th>Accepting applicants</th>\n",
              "      <th>Reviewing applicants with HM</th>\n",
              "      <th>Reviewing request to hire with HR</th>\n",
              "    </tr>\n",
              "  </thead>\n",
              "  <tbody>\n",
              "    <tr>\n",
              "      <th>0</th>\n",
              "      <td>2022-08-29</td>\n",
              "      <td>37</td>\n",
              "      <td>1</td>\n",
              "      <td>8</td>\n",
              "      <td>15</td>\n",
              "      <td>2</td>\n",
              "    </tr>\n",
              "    <tr>\n",
              "      <th>1</th>\n",
              "      <td>2022-08-30</td>\n",
              "      <td>37</td>\n",
              "      <td>1</td>\n",
              "      <td>7</td>\n",
              "      <td>13</td>\n",
              "      <td>2</td>\n",
              "    </tr>\n",
              "    <tr>\n",
              "      <th>2</th>\n",
              "      <td>2022-08-31</td>\n",
              "      <td>37</td>\n",
              "      <td>1</td>\n",
              "      <td>6</td>\n",
              "      <td>14</td>\n",
              "      <td>1</td>\n",
              "    </tr>\n",
              "    <tr>\n",
              "      <th>3</th>\n",
              "      <td>2022-09-01</td>\n",
              "      <td>44</td>\n",
              "      <td>8</td>\n",
              "      <td>6</td>\n",
              "      <td>11</td>\n",
              "      <td>4</td>\n",
              "    </tr>\n",
              "    <tr>\n",
              "      <th>4</th>\n",
              "      <td>2022-09-02</td>\n",
              "      <td>44</td>\n",
              "      <td>8</td>\n",
              "      <td>6</td>\n",
              "      <td>10</td>\n",
              "      <td>4</td>\n",
              "    </tr>\n",
              "    <tr>\n",
              "      <th>5</th>\n",
              "      <td>2022-09-06</td>\n",
              "      <td>44</td>\n",
              "      <td>8</td>\n",
              "      <td>4</td>\n",
              "      <td>10</td>\n",
              "      <td>5</td>\n",
              "    </tr>\n",
              "    <tr>\n",
              "      <th>6</th>\n",
              "      <td>2022-09-08</td>\n",
              "      <td>44</td>\n",
              "      <td>5</td>\n",
              "      <td>8</td>\n",
              "      <td>9</td>\n",
              "      <td>6</td>\n",
              "    </tr>\n",
              "    <tr>\n",
              "      <th>7</th>\n",
              "      <td>2022-09-09</td>\n",
              "      <td>44</td>\n",
              "      <td>6</td>\n",
              "      <td>7</td>\n",
              "      <td>9</td>\n",
              "      <td>2</td>\n",
              "    </tr>\n",
              "    <tr>\n",
              "      <th>8</th>\n",
              "      <td>2022-09-12</td>\n",
              "      <td>40</td>\n",
              "      <td>4</td>\n",
              "      <td>9</td>\n",
              "      <td>9</td>\n",
              "      <td>2</td>\n",
              "    </tr>\n",
              "    <tr>\n",
              "      <th>9</th>\n",
              "      <td>2022-09-13</td>\n",
              "      <td>40</td>\n",
              "      <td>4</td>\n",
              "      <td>9</td>\n",
              "      <td>8</td>\n",
              "      <td>1</td>\n",
              "    </tr>\n",
              "    <tr>\n",
              "      <th>10</th>\n",
              "      <td>2022-09-14</td>\n",
              "      <td>40</td>\n",
              "      <td>6</td>\n",
              "      <td>9</td>\n",
              "      <td>7</td>\n",
              "      <td>2</td>\n",
              "    </tr>\n",
              "    <tr>\n",
              "      <th>11</th>\n",
              "      <td>2022-09-15</td>\n",
              "      <td>39</td>\n",
              "      <td>7</td>\n",
              "      <td>9</td>\n",
              "      <td>6</td>\n",
              "      <td>2</td>\n",
              "    </tr>\n",
              "    <tr>\n",
              "      <th>12</th>\n",
              "      <td>2022-09-16</td>\n",
              "      <td>40</td>\n",
              "      <td>6</td>\n",
              "      <td>9</td>\n",
              "      <td>6</td>\n",
              "      <td>4</td>\n",
              "    </tr>\n",
              "    <tr>\n",
              "      <th>13</th>\n",
              "      <td>2022-09-19</td>\n",
              "      <td>43</td>\n",
              "      <td>8</td>\n",
              "      <td>8</td>\n",
              "      <td>7</td>\n",
              "      <td>3</td>\n",
              "    </tr>\n",
              "    <tr>\n",
              "      <th>14</th>\n",
              "      <td>2022-09-20</td>\n",
              "      <td>43</td>\n",
              "      <td>8</td>\n",
              "      <td>8</td>\n",
              "      <td>7</td>\n",
              "      <td>3</td>\n",
              "    </tr>\n",
              "    <tr>\n",
              "      <th>15</th>\n",
              "      <td>2022-09-21</td>\n",
              "      <td>43</td>\n",
              "      <td>6</td>\n",
              "      <td>10</td>\n",
              "      <td>7</td>\n",
              "      <td>2</td>\n",
              "    </tr>\n",
              "    <tr>\n",
              "      <th>16</th>\n",
              "      <td>2022-09-22</td>\n",
              "      <td>43</td>\n",
              "      <td>6</td>\n",
              "      <td>10</td>\n",
              "      <td>4</td>\n",
              "      <td>3</td>\n",
              "    </tr>\n",
              "    <tr>\n",
              "      <th>17</th>\n",
              "      <td>2022-09-23</td>\n",
              "      <td>43</td>\n",
              "      <td>6</td>\n",
              "      <td>9</td>\n",
              "      <td>5</td>\n",
              "      <td>3</td>\n",
              "    </tr>\n",
              "    <tr>\n",
              "      <th>18</th>\n",
              "      <td>2022-09-27</td>\n",
              "      <td>40</td>\n",
              "      <td>7</td>\n",
              "      <td>9</td>\n",
              "      <td>5</td>\n",
              "      <td>0</td>\n",
              "    </tr>\n",
              "    <tr>\n",
              "      <th>19</th>\n",
              "      <td>2022-09-28</td>\n",
              "      <td>42</td>\n",
              "      <td>9</td>\n",
              "      <td>7</td>\n",
              "      <td>6</td>\n",
              "      <td>0</td>\n",
              "    </tr>\n",
              "    <tr>\n",
              "      <th>20</th>\n",
              "      <td>2022-10-03</td>\n",
              "      <td>43</td>\n",
              "      <td>11</td>\n",
              "      <td>6</td>\n",
              "      <td>6</td>\n",
              "      <td>1</td>\n",
              "    </tr>\n",
              "    <tr>\n",
              "      <th>21</th>\n",
              "      <td>2022-10-04</td>\n",
              "      <td>44</td>\n",
              "      <td>5</td>\n",
              "      <td>12</td>\n",
              "      <td>6</td>\n",
              "      <td>1</td>\n",
              "    </tr>\n",
              "    <tr>\n",
              "      <th>22</th>\n",
              "      <td>2022-10-05</td>\n",
              "      <td>45</td>\n",
              "      <td>6</td>\n",
              "      <td>11</td>\n",
              "      <td>8</td>\n",
              "      <td>1</td>\n",
              "    </tr>\n",
              "    <tr>\n",
              "      <th>23</th>\n",
              "      <td>2022-10-13</td>\n",
              "      <td>37</td>\n",
              "      <td>3</td>\n",
              "      <td>14</td>\n",
              "      <td>7</td>\n",
              "      <td>1</td>\n",
              "    </tr>\n",
              "    <tr>\n",
              "      <th>24</th>\n",
              "      <td>2022-10-16</td>\n",
              "      <td>39</td>\n",
              "      <td>7</td>\n",
              "      <td>12</td>\n",
              "      <td>8</td>\n",
              "      <td>1</td>\n",
              "    </tr>\n",
              "    <tr>\n",
              "      <th>25</th>\n",
              "      <td>2022-10-17</td>\n",
              "      <td>39</td>\n",
              "      <td>7</td>\n",
              "      <td>12</td>\n",
              "      <td>8</td>\n",
              "      <td>1</td>\n",
              "    </tr>\n",
              "    <tr>\n",
              "      <th>26</th>\n",
              "      <td>2022-10-18</td>\n",
              "      <td>39</td>\n",
              "      <td>7</td>\n",
              "      <td>9</td>\n",
              "      <td>10</td>\n",
              "      <td>1</td>\n",
              "    </tr>\n",
              "    <tr>\n",
              "      <th>27</th>\n",
              "      <td>2022-10-19</td>\n",
              "      <td>40</td>\n",
              "      <td>5</td>\n",
              "      <td>11</td>\n",
              "      <td>13</td>\n",
              "      <td>0</td>\n",
              "    </tr>\n",
              "  </tbody>\n",
              "</table>\n",
              "</div>\n",
              "      <button class=\"colab-df-convert\" onclick=\"convertToInteractive('df-7ecac6ab-b453-4a83-8f94-3dc07fec2c3c')\"\n",
              "              title=\"Convert this dataframe to an interactive table.\"\n",
              "              style=\"display:none;\">\n",
              "        \n",
              "  <svg xmlns=\"http://www.w3.org/2000/svg\" height=\"24px\"viewBox=\"0 0 24 24\"\n",
              "       width=\"24px\">\n",
              "    <path d=\"M0 0h24v24H0V0z\" fill=\"none\"/>\n",
              "    <path d=\"M18.56 5.44l.94 2.06.94-2.06 2.06-.94-2.06-.94-.94-2.06-.94 2.06-2.06.94zm-11 1L8.5 8.5l.94-2.06 2.06-.94-2.06-.94L8.5 2.5l-.94 2.06-2.06.94zm10 10l.94 2.06.94-2.06 2.06-.94-2.06-.94-.94-2.06-.94 2.06-2.06.94z\"/><path d=\"M17.41 7.96l-1.37-1.37c-.4-.4-.92-.59-1.43-.59-.52 0-1.04.2-1.43.59L10.3 9.45l-7.72 7.72c-.78.78-.78 2.05 0 2.83L4 21.41c.39.39.9.59 1.41.59.51 0 1.02-.2 1.41-.59l7.78-7.78 2.81-2.81c.8-.78.8-2.07 0-2.86zM5.41 20L4 18.59l7.72-7.72 1.47 1.35L5.41 20z\"/>\n",
              "  </svg>\n",
              "      </button>\n",
              "      \n",
              "  <style>\n",
              "    .colab-df-container {\n",
              "      display:flex;\n",
              "      flex-wrap:wrap;\n",
              "      gap: 12px;\n",
              "    }\n",
              "\n",
              "    .colab-df-convert {\n",
              "      background-color: #E8F0FE;\n",
              "      border: none;\n",
              "      border-radius: 50%;\n",
              "      cursor: pointer;\n",
              "      display: none;\n",
              "      fill: #1967D2;\n",
              "      height: 32px;\n",
              "      padding: 0 0 0 0;\n",
              "      width: 32px;\n",
              "    }\n",
              "\n",
              "    .colab-df-convert:hover {\n",
              "      background-color: #E2EBFA;\n",
              "      box-shadow: 0px 1px 2px rgba(60, 64, 67, 0.3), 0px 1px 3px 1px rgba(60, 64, 67, 0.15);\n",
              "      fill: #174EA6;\n",
              "    }\n",
              "\n",
              "    [theme=dark] .colab-df-convert {\n",
              "      background-color: #3B4455;\n",
              "      fill: #D2E3FC;\n",
              "    }\n",
              "\n",
              "    [theme=dark] .colab-df-convert:hover {\n",
              "      background-color: #434B5C;\n",
              "      box-shadow: 0px 1px 3px 1px rgba(0, 0, 0, 0.15);\n",
              "      filter: drop-shadow(0px 1px 2px rgba(0, 0, 0, 0.3));\n",
              "      fill: #FFFFFF;\n",
              "    }\n",
              "  </style>\n",
              "\n",
              "      <script>\n",
              "        const buttonEl =\n",
              "          document.querySelector('#df-7ecac6ab-b453-4a83-8f94-3dc07fec2c3c button.colab-df-convert');\n",
              "        buttonEl.style.display =\n",
              "          google.colab.kernel.accessAllowed ? 'block' : 'none';\n",
              "\n",
              "        async function convertToInteractive(key) {\n",
              "          const element = document.querySelector('#df-7ecac6ab-b453-4a83-8f94-3dc07fec2c3c');\n",
              "          const dataTable =\n",
              "            await google.colab.kernel.invokeFunction('convertToInteractive',\n",
              "                                                     [key], {});\n",
              "          if (!dataTable) return;\n",
              "\n",
              "          const docLinkHtml = 'Like what you see? Visit the ' +\n",
              "            '<a target=\"_blank\" href=https://colab.research.google.com/notebooks/data_table.ipynb>data table notebook</a>'\n",
              "            + ' to learn more about interactive tables.';\n",
              "          element.innerHTML = '';\n",
              "          dataTable['output_type'] = 'display_data';\n",
              "          await google.colab.output.renderOutput(dataTable, element);\n",
              "          const docLink = document.createElement('div');\n",
              "          docLink.innerHTML = docLinkHtml;\n",
              "          element.appendChild(docLink);\n",
              "        }\n",
              "      </script>\n",
              "    </div>\n",
              "  </div>\n",
              "  "
            ]
          },
          "metadata": {},
          "execution_count": 29
        }
      ]
    },
    {
      "cell_type": "code",
      "source": [
        "df.loc[df.Date == date]"
      ],
      "metadata": {
        "colab": {
          "base_uri": "https://localhost:8080/"
        },
        "id": "lJr2ozfQBByU",
        "outputId": "aa5f9299-f91d-4d50-e150-c94878be1e78"
      },
      "execution_count": null,
      "outputs": [
        {
          "output_type": "execute_result",
          "data": {
            "text/plain": [
              "Empty DataFrame\n",
              "Columns: [Date, Number of Vanant, Request to post In review with HR, Accepting applicants, Reviewing applicants with HM, Reviewing request to hire with HR]\n",
              "Index: []"
            ],
            "text/html": [
              "\n",
              "  <div id=\"df-a3465ddf-decc-4d6a-8bc5-3816926b0469\">\n",
              "    <div class=\"colab-df-container\">\n",
              "      <div>\n",
              "<style scoped>\n",
              "    .dataframe tbody tr th:only-of-type {\n",
              "        vertical-align: middle;\n",
              "    }\n",
              "\n",
              "    .dataframe tbody tr th {\n",
              "        vertical-align: top;\n",
              "    }\n",
              "\n",
              "    .dataframe thead th {\n",
              "        text-align: right;\n",
              "    }\n",
              "</style>\n",
              "<table border=\"1\" class=\"dataframe\">\n",
              "  <thead>\n",
              "    <tr style=\"text-align: right;\">\n",
              "      <th></th>\n",
              "      <th>Date</th>\n",
              "      <th>Number of Vanant</th>\n",
              "      <th>Request to post In review with HR</th>\n",
              "      <th>Accepting applicants</th>\n",
              "      <th>Reviewing applicants with HM</th>\n",
              "      <th>Reviewing request to hire with HR</th>\n",
              "    </tr>\n",
              "  </thead>\n",
              "  <tbody>\n",
              "  </tbody>\n",
              "</table>\n",
              "</div>\n",
              "      <button class=\"colab-df-convert\" onclick=\"convertToInteractive('df-a3465ddf-decc-4d6a-8bc5-3816926b0469')\"\n",
              "              title=\"Convert this dataframe to an interactive table.\"\n",
              "              style=\"display:none;\">\n",
              "        \n",
              "  <svg xmlns=\"http://www.w3.org/2000/svg\" height=\"24px\"viewBox=\"0 0 24 24\"\n",
              "       width=\"24px\">\n",
              "    <path d=\"M0 0h24v24H0V0z\" fill=\"none\"/>\n",
              "    <path d=\"M18.56 5.44l.94 2.06.94-2.06 2.06-.94-2.06-.94-.94-2.06-.94 2.06-2.06.94zm-11 1L8.5 8.5l.94-2.06 2.06-.94-2.06-.94L8.5 2.5l-.94 2.06-2.06.94zm10 10l.94 2.06.94-2.06 2.06-.94-2.06-.94-.94-2.06-.94 2.06-2.06.94z\"/><path d=\"M17.41 7.96l-1.37-1.37c-.4-.4-.92-.59-1.43-.59-.52 0-1.04.2-1.43.59L10.3 9.45l-7.72 7.72c-.78.78-.78 2.05 0 2.83L4 21.41c.39.39.9.59 1.41.59.51 0 1.02-.2 1.41-.59l7.78-7.78 2.81-2.81c.8-.78.8-2.07 0-2.86zM5.41 20L4 18.59l7.72-7.72 1.47 1.35L5.41 20z\"/>\n",
              "  </svg>\n",
              "      </button>\n",
              "      \n",
              "  <style>\n",
              "    .colab-df-container {\n",
              "      display:flex;\n",
              "      flex-wrap:wrap;\n",
              "      gap: 12px;\n",
              "    }\n",
              "\n",
              "    .colab-df-convert {\n",
              "      background-color: #E8F0FE;\n",
              "      border: none;\n",
              "      border-radius: 50%;\n",
              "      cursor: pointer;\n",
              "      display: none;\n",
              "      fill: #1967D2;\n",
              "      height: 32px;\n",
              "      padding: 0 0 0 0;\n",
              "      width: 32px;\n",
              "    }\n",
              "\n",
              "    .colab-df-convert:hover {\n",
              "      background-color: #E2EBFA;\n",
              "      box-shadow: 0px 1px 2px rgba(60, 64, 67, 0.3), 0px 1px 3px 1px rgba(60, 64, 67, 0.15);\n",
              "      fill: #174EA6;\n",
              "    }\n",
              "\n",
              "    [theme=dark] .colab-df-convert {\n",
              "      background-color: #3B4455;\n",
              "      fill: #D2E3FC;\n",
              "    }\n",
              "\n",
              "    [theme=dark] .colab-df-convert:hover {\n",
              "      background-color: #434B5C;\n",
              "      box-shadow: 0px 1px 3px 1px rgba(0, 0, 0, 0.15);\n",
              "      filter: drop-shadow(0px 1px 2px rgba(0, 0, 0, 0.3));\n",
              "      fill: #FFFFFF;\n",
              "    }\n",
              "  </style>\n",
              "\n",
              "      <script>\n",
              "        const buttonEl =\n",
              "          document.querySelector('#df-a3465ddf-decc-4d6a-8bc5-3816926b0469 button.colab-df-convert');\n",
              "        buttonEl.style.display =\n",
              "          google.colab.kernel.accessAllowed ? 'block' : 'none';\n",
              "\n",
              "        async function convertToInteractive(key) {\n",
              "          const element = document.querySelector('#df-a3465ddf-decc-4d6a-8bc5-3816926b0469');\n",
              "          const dataTable =\n",
              "            await google.colab.kernel.invokeFunction('convertToInteractive',\n",
              "                                                     [key], {});\n",
              "          if (!dataTable) return;\n",
              "\n",
              "          const docLinkHtml = 'Like what you see? Visit the ' +\n",
              "            '<a target=\"_blank\" href=https://colab.research.google.com/notebooks/data_table.ipynb>data table notebook</a>'\n",
              "            + ' to learn more about interactive tables.';\n",
              "          element.innerHTML = '';\n",
              "          dataTable['output_type'] = 'display_data';\n",
              "          await google.colab.output.renderOutput(dataTable, element);\n",
              "          const docLink = document.createElement('div');\n",
              "          docLink.innerHTML = docLinkHtml;\n",
              "          element.appendChild(docLink);\n",
              "        }\n",
              "      </script>\n",
              "    </div>\n",
              "  </div>\n",
              "  "
            ]
          },
          "metadata": {},
          "execution_count": 30
        }
      ]
    },
    {
      "cell_type": "code",
      "source": [
        "last_df_row = len(df)-1"
      ],
      "metadata": {
        "id": "zMHv29fTCTrx"
      },
      "execution_count": null,
      "outputs": []
    },
    {
      "cell_type": "code",
      "source": [
        "if df['Date'][last_df_row] == date :\n",
        "  start_cell_len = len(df)+1\n",
        "else:\n",
        "  start_cell_len = len(df)+2"
      ],
      "metadata": {
        "id": "L1kv_oA7Br0v"
      },
      "execution_count": null,
      "outputs": []
    },
    {
      "cell_type": "code",
      "source": [
        "#start_cell_len = len(df)+2\n",
        "start_cell = f\"A{start_cell_len}\"\n",
        "end_cell = f\"F{start_cell_len}\"\n",
        "cell_range = f\"{start_cell}:{end_cell}\"\n",
        "cell_list = worksheet.range(cell_range)\n",
        "len(cell_list)"
      ],
      "metadata": {
        "colab": {
          "base_uri": "https://localhost:8080/"
        },
        "id": "xQ2rZVh7ND5r",
        "outputId": "74def9da-a78d-4f6e-c4a8-264251b4e9c3"
      },
      "execution_count": null,
      "outputs": [
        {
          "output_type": "execute_result",
          "data": {
            "text/plain": [
              "6"
            ]
          },
          "metadata": {},
          "execution_count": 33
        }
      ]
    },
    {
      "cell_type": "code",
      "source": [
        "for c, cell in enumerate(cell_list):\n",
        "  cell.value = cell_values[c]"
      ],
      "metadata": {
        "id": "5l58JN3JNQ0E"
      },
      "execution_count": null,
      "outputs": []
    },
    {
      "cell_type": "code",
      "source": [
        "worksheet.update_cells(cell_list)"
      ],
      "metadata": {
        "colab": {
          "base_uri": "https://localhost:8080/"
        },
        "id": "BmXlvSs4NRk0",
        "outputId": "1585d690-2dcb-4ce1-dbf2-fca129ca927d"
      },
      "execution_count": null,
      "outputs": [
        {
          "output_type": "execute_result",
          "data": {
            "text/plain": [
              "{'spreadsheetId': '15LAy1hAJEBd0FofT3WaqsIiI_CEz-P9hlOnuTNFLr2s',\n",
              " 'updatedRange': 'Sheet1!A30:F30',\n",
              " 'updatedRows': 1,\n",
              " 'updatedColumns': 6,\n",
              " 'updatedCells': 6}"
            ]
          },
          "metadata": {},
          "execution_count": 35
        }
      ]
    },
    {
      "cell_type": "markdown",
      "source": [
        "# Create New cards"
      ],
      "metadata": {
        "id": "uRoNUgMXRxKQ"
      }
    },
    {
      "cell_type": "markdown",
      "source": [
        "##import data"
      ],
      "metadata": {
        "id": "1ZKMiVKpSJ8e"
      }
    },
    {
      "cell_type": "code",
      "source": [
        "worksheet = gc.open('2022 Revised Requisition to Post a Vacancy (Responses)').sheet1\n",
        "df = pd.DataFrame(worksheet.get_all_records())\n",
        "board_id = '6130fcfbf6281e68ab54480b'"
      ],
      "metadata": {
        "id": "eRw2JCPvOV2B"
      },
      "execution_count": null,
      "outputs": []
    },
    {
      "cell_type": "code",
      "source": [
        "def req_date(n) :\n",
        "  day = df.iloc[n,0]\n",
        "  day = pd.to_datetime(day)\n",
        "  day = datetime.strftime(day, '%m-%d-%Y')\n",
        "  return day\n",
        "\n",
        "def dep_name(n):\n",
        "  department = df.iloc[n,3]\n",
        "  return department\n",
        "\n",
        "# def job_title(n):\n",
        "#   title = df.iloc[n,4]\n",
        "#   title.replace(\"Temporary Part Time\",\"TPT\")\n",
        "#   return title\n",
        "\n",
        "def job_title(n):\n",
        "  title = df.iloc[n,4]\n",
        "  count_title = df.iloc[:,4].value_counts()[title]\n",
        "  if count_title > 1 :\n",
        "    title = f\"{title}({count_title})\"\n",
        "    #print(title)    \n",
        "  title.replace(\"Temporary Part Time\",\"TPT\")\n",
        "  return title\n",
        "\n",
        "\n",
        "def list_cards(my_list) :\n",
        "  cards = my_list  \n",
        "  num_cards = cards.cardsCnt() \n",
        "  cards = cards.list_cards()\n",
        "  card_list = []\n",
        "  for i in range(1,num_cards) :\n",
        "    card = str(cards[i]).replace(\">\",\"\")\n",
        "    card = card[6:]\n",
        "    card_list.append(card)\n",
        "  return card_list"
      ],
      "metadata": {
        "id": "62XPQRQdR9yx"
      },
      "execution_count": null,
      "outputs": []
    },
    {
      "cell_type": "code",
      "source": [
        "# This code sample uses the 'requests' library:\n",
        "# http://docs.python-requests.org\n",
        "\n",
        "def search_card_name(card_name):\n",
        "\n",
        "  url = \"https://api.trello.com/1/search\"\n",
        "\n",
        "  headers = {\n",
        "    \"Accept\": \"application/json\"\n",
        "  }\n",
        "  #search  \n",
        "  query = {\n",
        "   'query': f'{card_name} is:open',\n",
        "   'key': yourkey,\n",
        "   'token': yourtoken,\n",
        "   'idBoards' : f'{board_id}',\n",
        "   'card_fields' : ['name','closed','idList','labels']\n",
        "  }\n",
        "  response = requests.request(\n",
        "    \"GET\",\n",
        "    url,\n",
        "    headers=headers,\n",
        "    params=query\n",
        "  )\n",
        "\n",
        "  listid1_3 = list(dic_list)[:3]\n",
        "  #test_list\n",
        "  #listid1_3 = '62b9c3d42ee464712fc903b8'\n",
        "  search_result = []\n",
        "  for i in json.loads(response.text)['cards'] :\n",
        "    if i['idList'] in listid1_3 : \n",
        "      search_result.append(i['name'])\n",
        "  #print('search result',search_result)    \n",
        "  return search_result"
      ],
      "metadata": {
        "id": "zwm51P2Ll7JK"
      },
      "execution_count": null,
      "outputs": []
    },
    {
      "cell_type": "markdown",
      "source": [
        "##add card to list"
      ],
      "metadata": {
        "id": "dwB5Fr_jT5GJ"
      }
    },
    {
      "cell_type": "code",
      "source": [
        "###############use test list \n",
        "#test1 board \n",
        "# test_list1 = last_board.get_list('62b9c3d42ee464712fc903b9') \n",
        "\n",
        "# ####COB Hiring Process\n",
        "test_list1 = last_board.get_list('6130fcfbf6281e68ab54480c')"
      ],
      "metadata": {
        "id": "ulK4pBZKTNUK"
      },
      "execution_count": null,
      "outputs": []
    },
    {
      "cell_type": "code",
      "source": [
        "card_names = []\n",
        "for i in range(len(df)):\n",
        "  card_name = f\"{job_title(i)} - {dep_name(i)} | {req_date(i)}\"\n",
        "  if card_name in card_names :\n",
        "    continue\n",
        "  card_names.append(card_name)\n",
        "\n",
        "  if card_name not in search_card_name(card_name):\n",
        "    test_list1.add_card(card_name)\n",
        "    print(card_name)\n",
        "\n",
        "#card_names"
      ],
      "metadata": {
        "id": "ufrhA_x5TEcm",
        "colab": {
          "base_uri": "https://localhost:8080/"
        },
        "outputId": "2b2732a2-a140-470e-cf81-7bd923d08202"
      },
      "execution_count": null,
      "outputs": [
        {
          "output_type": "stream",
          "name": "stdout",
          "text": [
            "Laborer  - Parks | 10-14-2022\n",
            "Assistant GIS Coordinator - Utilities-Engineering | 10-19-2022\n"
          ]
        }
      ]
    },
    {
      "cell_type": "code",
      "source": [
        "# test_list1.add_card(card_names[7])"
      ],
      "metadata": {
        "id": "ZDf_0w01CBAj"
      },
      "execution_count": null,
      "outputs": []
    }
  ]
}